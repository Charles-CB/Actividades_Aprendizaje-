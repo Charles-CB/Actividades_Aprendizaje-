{
  "nbformat": 4,
  "nbformat_minor": 0,
  "metadata": {
    "colab": {
      "provenance": [],
      "include_colab_link": true
    },
    "kernelspec": {
      "name": "python3",
      "display_name": "Python 3"
    },
    "language_info": {
      "name": "python"
    }
  },
  "cells": [
    {
      "cell_type": "markdown",
      "metadata": {
        "id": "view-in-github",
        "colab_type": "text"
      },
      "source": [
        "<a href=\"https://colab.research.google.com/github/Charles-CB/Actividades_Aprendizaje-/blob/main/Avance1/Copia_Avance1_5.ipynb\" target=\"_parent\"><img src=\"https://colab.research.google.com/assets/colab-badge.svg\" alt=\"Open In Colab\"/></a>"
      ]
    },
    {
      "cell_type": "markdown",
      "source": [
        "# Estructura de los datos\n",
        "Se incluye una descripción general de la forma y los tipos de datos. Se obtienen estadísticas descriptivas para todas las variables del conjunto. En variables categóricas se determina la frecuencia de las clases. Se identifican valores faltantes."
      ],
      "metadata": {
        "id": "s0FgrmcpvTai"
      }
    },
    {
      "cell_type": "code",
      "execution_count": 2,
      "metadata": {
        "id": "ZTWKRRFwvO3Z",
        "outputId": "83730577-9bfe-4865-d7ef-5f43b98e667b",
        "colab": {
          "base_uri": "https://localhost:8080/"
        }
      },
      "outputs": [
        {
          "output_type": "stream",
          "name": "stdout",
          "text": [
            "Hola Mundo.\n"
          ]
        }
      ],
      "source": [
        "print(\"Hola Mundo.\")"
      ]
    },
    {
      "cell_type": "markdown",
      "source": [
        "# Análisis univariante\n",
        "Se emplean técnicas de visualización (histogramas, boxplot, gráficos de barras) en función del tipo de datos y la escala de medición."
      ],
      "metadata": {
        "id": "EEeGfYF7vnLt"
      }
    },
    {
      "cell_type": "code",
      "source": [],
      "metadata": {
        "id": "iSJq3T51vq8o"
      },
      "execution_count": null,
      "outputs": []
    },
    {
      "cell_type": "markdown",
      "source": [
        "# Este criterio depende de una competencia de aprendizajeAnálisis bi/multivariante\n",
        "\n",
        "Se efectúan análisis de correlación (cuantitativos y gráficos) para explorar las relaciones entre las variables importantes del conjunto de datos."
      ],
      "metadata": {
        "id": "W-WrhMPEvraE"
      }
    },
    {
      "cell_type": "code",
      "source": [],
      "metadata": {
        "id": "JcTd6arDvuWf"
      },
      "execution_count": null,
      "outputs": []
    },
    {
      "cell_type": "markdown",
      "source": [
        "# Preprocesamiento\n",
        "Se ejecutan y justifican las estrategias para el manejo de valores faltantes, atípicos y alta cardinalidad (si aplica)"
      ],
      "metadata": {
        "id": "qguP0yB-vwQ4"
      }
    },
    {
      "cell_type": "code",
      "source": [],
      "metadata": {
        "id": "Zge_Rb1Zv0hd"
      },
      "execution_count": null,
      "outputs": []
    },
    {
      "cell_type": "markdown",
      "source": [
        "# Conclusiones\n",
        "\n",
        "Se incluyen las ideas/observaciones clave, asegurándose de responder todas las preguntas propuestas que apliquen al proyecto."
      ],
      "metadata": {
        "id": "NtIDZyvov134"
      }
    },
    {
      "cell_type": "code",
      "source": [],
      "metadata": {
        "id": "sSBtvuRkv5cp"
      },
      "execution_count": null,
      "outputs": []
    }
  ]
}